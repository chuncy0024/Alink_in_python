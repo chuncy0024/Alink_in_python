{
 "cells": [
  {
   "cell_type": "code",
   "execution_count": null,
   "metadata": {},
   "outputs": [],
   "source": [
    "python3 -c 'from pyalink.alink.download_pyalink_dep_jars import main;main()'"
   ]
  },
  {
   "cell_type": "code",
   "execution_count": 1,
   "metadata": {},
   "outputs": [
    {
     "name": "stdout",
     "output_type": "stream",
     "text": [
      "\n",
      "Use one of the following commands to start using PyAlink:\n",
      " - useLocalEnv(parallelism, flinkHome=None, config=None): run PyAlink scripts locally.\n",
      " - useRemoteEnv(host, port, parallelism, flinkHome=None, localIp=\"localhost\", config=None): run PyAlink scripts on a Flink cluster.\n",
      " - getMLEnv(): run PyAlink scripts as PyFlink scripts, support 'flink run -py xxx.py'.\n",
      "Call resetEnv() to reset environment and switch to another.\n",
      "\n",
      "Warning: localIp is not provided, default value localhost is used. DataStream data display could fail, if the localIp is not reachable from the Flink Cluster.\n",
      "JVM listening on 127.0.0.1:60932\n"
     ]
    },
    {
     "data": {
      "text/plain": [
       "MLEnv(benv=<pyflink.dataset.execution_environment.ExecutionEnvironment object at 0x0000025E1084EDF0>, btenv=<pyflink.table.table_environment.BatchTableEnvironment object at 0x0000025E1084EEE0>, senv=<pyflink.datastream.stream_execution_environment.StreamExecutionEnvironment object at 0x0000025E1084EBB0>, stenv=<pyflink.table.table_environment.StreamTableEnvironment object at 0x0000025E10873580>)"
      ]
     },
     "execution_count": 1,
     "metadata": {},
     "output_type": "execute_result"
    }
   ],
   "source": [
    "from pyalink.alink import *\n",
    "resetEnv()\n",
    "#useLocalEnv(1, config=None) 本地运行\n",
    "useRemoteEnv(\"192.168.10.102\", 8081, 2) #集群运行"
   ]
  },
  {
   "cell_type": "code",
   "execution_count": 2,
   "metadata": {},
   "outputs": [],
   "source": [
    "## prepare data\n",
    "import numpy as np\n",
    "import pandas as pd\n",
    "data = np.array([\n",
    "    [0, 0.0, 0.0, 0.0],\n",
    "    [1, 0.1, 0.1, 0.1],\n",
    "    [2, 0.2, 0.2, 0.2],\n",
    "    [3, 9, 9, 9],\n",
    "    [4, 9.1, 9.1, 9.1],\n",
    "    [5, 9.2, 9.2, 9.2]\n",
    "])\n",
    "df = pd.DataFrame({\"id\": data[:, 0], \"f0\": data[:, 1], \"f1\": data[:, 2], \"f2\": data[:, 3]})\n",
    "inOp = BatchOperator.fromDataframe(df, schemaStr='id double, f0 double, f1 double, f2 double')\n",
    "FEATURE_COLS = [\"f0\", \"f1\", \"f2\"]\n",
    "VECTOR_COL = \"vec\"\n",
    "PRED_COL = \"pred\""
   ]
  },
  {
   "cell_type": "code",
   "execution_count": 3,
   "metadata": {},
   "outputs": [],
   "source": [
    "vectorAssembler = (\n",
    "    VectorAssembler()\n",
    "    .setSelectedCols(FEATURE_COLS)\n",
    "    .setOutputCol(VECTOR_COL)\n",
    ")"
   ]
  },
  {
   "cell_type": "code",
   "execution_count": 4,
   "metadata": {},
   "outputs": [],
   "source": [
    "kMeans = (\n",
    "    KMeans()\n",
    "    .setVectorCol(VECTOR_COL)\n",
    "    .setK(2)\n",
    "    .setPredictionCol(PRED_COL)\n",
    ")"
   ]
  },
  {
   "cell_type": "code",
   "execution_count": 5,
   "metadata": {},
   "outputs": [
    {
     "data": {
      "text/html": [
       "<div>\n",
       "<style scoped>\n",
       "    .dataframe tbody tr th:only-of-type {\n",
       "        vertical-align: middle;\n",
       "    }\n",
       "\n",
       "    .dataframe tbody tr th {\n",
       "        vertical-align: top;\n",
       "    }\n",
       "\n",
       "    .dataframe thead th {\n",
       "        text-align: right;\n",
       "    }\n",
       "</style>\n",
       "<table border=\"1\" class=\"dataframe\">\n",
       "  <thead>\n",
       "    <tr style=\"text-align: right;\">\n",
       "      <th></th>\n",
       "      <th>id</th>\n",
       "      <th>f0</th>\n",
       "      <th>f1</th>\n",
       "      <th>f2</th>\n",
       "      <th>vec</th>\n",
       "      <th>pred</th>\n",
       "    </tr>\n",
       "  </thead>\n",
       "  <tbody>\n",
       "    <tr>\n",
       "      <th>0</th>\n",
       "      <td>0.0</td>\n",
       "      <td>0.0</td>\n",
       "      <td>0.0</td>\n",
       "      <td>0.0</td>\n",
       "      <td>0.0 0.0 0.0</td>\n",
       "      <td>1</td>\n",
       "    </tr>\n",
       "    <tr>\n",
       "      <th>1</th>\n",
       "      <td>1.0</td>\n",
       "      <td>0.1</td>\n",
       "      <td>0.1</td>\n",
       "      <td>0.1</td>\n",
       "      <td>0.1 0.1 0.1</td>\n",
       "      <td>1</td>\n",
       "    </tr>\n",
       "    <tr>\n",
       "      <th>2</th>\n",
       "      <td>2.0</td>\n",
       "      <td>0.2</td>\n",
       "      <td>0.2</td>\n",
       "      <td>0.2</td>\n",
       "      <td>0.2 0.2 0.2</td>\n",
       "      <td>1</td>\n",
       "    </tr>\n",
       "    <tr>\n",
       "      <th>3</th>\n",
       "      <td>3.0</td>\n",
       "      <td>9.0</td>\n",
       "      <td>9.0</td>\n",
       "      <td>9.0</td>\n",
       "      <td>9.0 9.0 9.0</td>\n",
       "      <td>0</td>\n",
       "    </tr>\n",
       "    <tr>\n",
       "      <th>4</th>\n",
       "      <td>4.0</td>\n",
       "      <td>9.1</td>\n",
       "      <td>9.1</td>\n",
       "      <td>9.1</td>\n",
       "      <td>9.1 9.1 9.1</td>\n",
       "      <td>0</td>\n",
       "    </tr>\n",
       "    <tr>\n",
       "      <th>5</th>\n",
       "      <td>5.0</td>\n",
       "      <td>9.2</td>\n",
       "      <td>9.2</td>\n",
       "      <td>9.2</td>\n",
       "      <td>9.2 9.2 9.2</td>\n",
       "      <td>0</td>\n",
       "    </tr>\n",
       "  </tbody>\n",
       "</table>\n",
       "</div>"
      ],
      "text/plain": [
       "    id   f0   f1   f2          vec  pred\n",
       "0  0.0  0.0  0.0  0.0  0.0 0.0 0.0     1\n",
       "1  1.0  0.1  0.1  0.1  0.1 0.1 0.1     1\n",
       "2  2.0  0.2  0.2  0.2  0.2 0.2 0.2     1\n",
       "3  3.0  9.0  9.0  9.0  9.0 9.0 9.0     0\n",
       "4  4.0  9.1  9.1  9.1  9.1 9.1 9.1     0\n",
       "5  5.0  9.2  9.2  9.2  9.2 9.2 9.2     0"
      ]
     },
     "execution_count": 5,
     "metadata": {},
     "output_type": "execute_result"
    }
   ],
   "source": [
    "pipeline = Pipeline().add(vectorAssembler).add(kMeans)\n",
    "pipeline.fit(inOp).transform(inOp).firstN(9).collectToDataframe()"
   ]
  },
  {
   "cell_type": "code",
   "execution_count": null,
   "metadata": {},
   "outputs": [],
   "source": []
  },
  {
   "cell_type": "code",
   "execution_count": null,
   "metadata": {},
   "outputs": [],
   "source": []
  },
  {
   "cell_type": "code",
   "execution_count": null,
   "metadata": {},
   "outputs": [],
   "source": []
  }
 ],
 "metadata": {
  "kernelspec": {
   "display_name": "Python 3",
   "language": "python",
   "name": "python3"
  },
  "language_info": {
   "codemirror_mode": {
    "name": "ipython",
    "version": 3
   },
   "file_extension": ".py",
   "mimetype": "text/x-python",
   "name": "python",
   "nbconvert_exporter": "python",
   "pygments_lexer": "ipython3",
   "version": "3.8.3"
  },
  "toc": {
   "base_numbering": 1,
   "nav_menu": {},
   "number_sections": true,
   "sideBar": true,
   "skip_h1_title": false,
   "title_cell": "Table of Contents",
   "title_sidebar": "Contents",
   "toc_cell": false,
   "toc_position": {},
   "toc_section_display": true,
   "toc_window_display": false
  }
 },
 "nbformat": 4,
 "nbformat_minor": 4
}
