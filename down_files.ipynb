{
 "cells": [
  {
   "cell_type": "code",
   "execution_count": 1,
   "metadata": {},
   "outputs": [
    {
     "name": "stdout",
     "output_type": "stream",
     "text": [
      "\n",
      "Use one of the following commands to start using PyAlink:\n",
      " - useLocalEnv(parallelism, flinkHome=None, config=None): run PyAlink scripts locally.\n",
      " - useRemoteEnv(host, port, parallelism, flinkHome=None, localIp=\"localhost\", config=None): run PyAlink scripts on a Flink cluster.\n",
      " - getMLEnv(): run PyAlink scripts as PyFlink scripts, support 'flink run -py xxx.py'.\n",
      "Call resetEnv() to reset environment and switch to another.\n",
      "\n"
     ]
    }
   ],
   "source": [
    "import os\n",
    "from utils import *\n",
    "import urllib"
   ]
  },
  {
   "cell_type": "code",
   "execution_count": 2,
   "metadata": {},
   "outputs": [
    {
     "name": "stdout",
     "output_type": "stream",
     "text": [
      "Downloading G:/pythondataanalysis/PyFlink/alink_data/filesys\\iris.data\n",
      "Downloading G:/pythondataanalysis/PyFlink/alink_data/filesys\\winequality-white.csv\n",
      "Downloading G:/pythondataanalysis/PyFlink/alink_data/filesys\\u.data\n",
      "Downloading G:/pythondataanalysis/PyFlink/alink_data/banknote\\data_banknote_authentication.txt\n",
      "Downloading G:/pythondataanalysis/PyFlink/alink_data/mushroom\\agaricus-lepiota.data\n",
      "Downloading G:/pythondataanalysis/PyFlink/alink_data/german_credit\\german.data\n",
      "Downloading G:/pythondataanalysis/PyFlink/alink_data/tmall\\action_log.csv\n",
      "Downloading G:/pythondataanalysis/PyFlink/alink_data/iris\\iris.data\n",
      "Downloading G:/pythondataanalysis/PyFlink/alink_data/mnist\\train-images-idx3-ubyte.gz\n",
      "Downloading G:/pythondataanalysis/PyFlink/alink_data/mnist\\train-labels-idx1-ubyte.gz\n",
      "Downloading G:/pythondataanalysis/PyFlink/alink_data/mnist\\t10k-images-idx3-ubyte.gz\n",
      "Downloading G:/pythondataanalysis/PyFlink/alink_data/mnist\\t10k-labels-idx1-ubyte.gz\n",
      "Downloading G:/pythondataanalysis/PyFlink/alink_data/wine\\winequality-white.csv\n",
      "Downloading G:/pythondataanalysis/PyFlink/alink_data/movielens\\ml-100k\\u.item\n",
      "Downloading G:/pythondataanalysis/PyFlink/alink_data/movielens\\ml-100k\\u.user\n",
      "Downloading G:/pythondataanalysis/PyFlink/alink_data/movielens\\ml-100k\\u.data\n",
      "Downloading G:/pythondataanalysis/PyFlink/alink_data/movielens\\ml-100k\\ua.base\n",
      "Downloading G:/pythondataanalysis/PyFlink/alink_data/movielens\\ml-100k\\ua.test\n",
      "Downloading G:/pythondataanalysis/PyFlink/alink_data/wordvec\\%E4%B8%89%E5%9B%BD%E6%BC%94%E4%B9%89.txt\n",
      "Downloading G:/pythondataanalysis/PyFlink/alink_data/news_toutiao\\toutiao_cat_data.txt.zip\n"
     ]
    }
   ],
   "source": [
    "def get_url_file(url, data_dir):\n",
    "    if not os.path.exists(data_dir) :\n",
    "        os.makedirs(data_dir)\n",
    "    filename = url.split('/')[-1]\n",
    "    filepath = data_dir + os.sep + filename\n",
    "    if os.path.exists(filepath):\n",
    "        print(filepath + \" has already exist.\")\n",
    "    else:\n",
    "        print(\"Downloading \" + filepath)\n",
    "        urllib.request.urlretrieve(url, filename = filepath)\n",
    "\n",
    "get_url_file(\"http://archive.ics.uci.edu/ml/machine-learning-databases/iris/iris.data\", ROOT_DIR + \"filesys\")\n",
    "get_url_file(\"http://archive.ics.uci.edu/ml/machine-learning-databases/wine-quality/winequality-white.csv\", ROOT_DIR + \"filesys\")\n",
    "get_url_file(\"http://files.grouplens.org/datasets/movielens/ml-100k/u.data\", ROOT_DIR + \"filesys\")\n",
    "get_url_file(\"http://archive.ics.uci.edu/ml/machine-learning-databases/00267/data_banknote_authentication.txt\", ROOT_DIR + \"banknote\")\n",
    "get_url_file(\"http://archive.ics.uci.edu/ml/machine-learning-databases/mushroom/agaricus-lepiota.data\", ROOT_DIR + \"mushroom\")\n",
    "get_url_file(\"http://archive.ics.uci.edu/ml/machine-learning-databases/statlog/german/german.data\", ROOT_DIR + \"german_credit\")\n",
    "get_url_file(\"http://alink-release.oss-cn-beijing.aliyuncs.com/data-files/action_log.csv\", ROOT_DIR + \"tmall\")\n",
    "get_url_file(\"http://archive.ics.uci.edu/ml/machine-learning-databases/iris/iris.data\", ROOT_DIR + \"iris\")\n",
    "\n",
    "get_url_file(\"http://yann.lecun.com/exdb/mnist/train-images-idx3-ubyte.gz\", ROOT_DIR + \"mnist\")\n",
    "get_url_file(\"http://yann.lecun.com/exdb/mnist/train-labels-idx1-ubyte.gz\", ROOT_DIR + \"mnist\")\n",
    "get_url_file(\"http://yann.lecun.com/exdb/mnist/t10k-images-idx3-ubyte.gz\", ROOT_DIR + \"mnist\")\n",
    "get_url_file(\"http://yann.lecun.com/exdb/mnist/t10k-labels-idx1-ubyte.gz\", ROOT_DIR + \"mnist\")\n",
    "\n",
    "get_url_file(\"http://archive.ics.uci.edu/ml/machine-learning-databases/wine-quality/winequality-white.csv\", ROOT_DIR + \"wine\")\n",
    "get_url_file(\"http://files.grouplens.org/datasets/movielens/ml-100k/u.item\", ROOT_DIR + \"movielens\" + os.sep + \"ml-100k\")\n",
    "get_url_file(\"http://files.grouplens.org/datasets/movielens/ml-100k/u.user\", ROOT_DIR + \"movielens\" + os.sep + \"ml-100k\")\n",
    "get_url_file(\"http://files.grouplens.org/datasets/movielens/ml-100k/u.data\", ROOT_DIR + \"movielens\" + os.sep + \"ml-100k\")\n",
    "get_url_file(\"http://files.grouplens.org/datasets/movielens/ml-100k/ua.base\", ROOT_DIR + \"movielens\" + os.sep + \"ml-100k\")\n",
    "get_url_file(\"http://files.grouplens.org/datasets/movielens/ml-100k/ua.test\", ROOT_DIR + \"movielens\" + os.sep + \"ml-100k\")\n",
    "\n",
    "wordvec_dir = ROOT_DIR + \"wordvec\"\n",
    "if not os.path.exists(wordvec_dir + os.sep + \"三国演义.txt\") :\n",
    "    get_url_file(\"https://raw.githubusercontent.com/tennessine/corpus/master/%E4%B8%89%E5%9B%BD%E6%BC%94%E4%B9%89.txt\", wordvec_dir)\n",
    "    os.rename(wordvec_dir + os.sep + \"%E4%B8%89%E5%9B%BD%E6%BC%94%E4%B9%89.txt\", wordvec_dir + os.sep + \"三国演义.txt\")\n",
    "\n",
    "news_dir = ROOT_DIR + \"news_toutiao\"\n",
    "get_url_file(\"https://github.com/BenDerPan/toutiao-text-classfication-dataset/raw/master/toutiao_cat_data.txt.zip\", news_dir)\n",
    "import zipfile\n",
    "if not os.path.exists(news_dir + os.sep + \"toutiao_cat_data.txt\") :\n",
    "    with zipfile.ZipFile(news_dir + os.sep + \"toutiao_cat_data.txt.zip\", 'r') as zipf:\n",
    "        zipf.extractall(news_dir)\n",
    "  "
   ]
  },
  {
   "cell_type": "code",
   "execution_count": null,
   "metadata": {},
   "outputs": [],
   "source": []
  }
 ],
 "metadata": {
  "kernelspec": {
   "display_name": "Python 3",
   "language": "python",
   "name": "python3"
  },
  "language_info": {
   "codemirror_mode": {
    "name": "ipython",
    "version": 3
   },
   "file_extension": ".py",
   "mimetype": "text/x-python",
   "name": "python",
   "nbconvert_exporter": "python",
   "pygments_lexer": "ipython3",
   "version": "3.8.3"
  },
  "toc": {
   "base_numbering": 1,
   "nav_menu": {},
   "number_sections": true,
   "sideBar": true,
   "skip_h1_title": false,
   "title_cell": "Table of Contents",
   "title_sidebar": "Contents",
   "toc_cell": false,
   "toc_position": {},
   "toc_section_display": true,
   "toc_window_display": false
  }
 },
 "nbformat": 4,
 "nbformat_minor": 4
}
