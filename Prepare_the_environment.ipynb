{
 "cells": [
  {
   "cell_type": "code",
   "execution_count": 5,
   "metadata": {},
   "outputs": [
    {
     "name": "stdout",
     "output_type": "stream",
     "text": [
      "Looking in indexes: http://pypi.douban.com/simple\n",
      "Requirement already satisfied: pip in d:\\anaconda\\lib\\site-packages (22.1)\n",
      "Collecting pip\n",
      "  Downloading http://pypi.doubanio.com/packages/9b/e6/aa8149e048eda381f2a433599be9b1f5e5e3a189636cd6cf9614aa2ff5be/pip-22.1.1-py3-none-any.whl (2.1 MB)\n",
      "     ---------------------------------------- 2.1/2.1 MB 1.5 MB/s eta 0:00:00\n",
      "Installing collected packages: pip\n",
      "  Attempting uninstall: pip\n",
      "    Found existing installation: pip 22.1\n",
      "    Uninstalling pip-22.1:\n",
      "      Successfully uninstalled pip-22.1\n",
      "Successfully installed pip-22.1.1\n",
      "Note: you may need to restart the kernel to use updated packages.\n"
     ]
    }
   ],
   "source": [
    "pip install --upgrade pip"
   ]
  },
  {
   "cell_type": "code",
   "execution_count": 4,
   "metadata": {},
   "outputs": [
    {
     "name": "stdout",
     "output_type": "stream",
     "text": [
      "Looking in indexes: http://pypi.douban.com/simple\n",
      "Requirement already satisfied: cloudpickle in d:\\anaconda\\lib\\site-packages (1.2.2)\n",
      "Collecting cloudpickle\n",
      "  Downloading http://pypi.doubanio.com/packages/25/40/2c9db9cfb85a8a21c61528f6660c47662b3e59576efac610d8268d47abba/cloudpickle-2.1.0-py3-none-any.whl (25 kB)\n",
      "Installing collected packages: cloudpickle\n",
      "  Attempting uninstall: cloudpickle\n",
      "    Found existing installation: cloudpickle 1.2.2\n",
      "    Uninstalling cloudpickle-1.2.2:\n",
      "      Successfully uninstalled cloudpickle-1.2.2\n",
      "Successfully installed cloudpickle-2.1.0\n",
      "Note: you may need to restart the kernel to use updated packages.\n"
     ]
    },
    {
     "name": "stderr",
     "output_type": "stream",
     "text": [
      "ERROR: pip's dependency resolver does not currently take into account all the packages that are installed. This behaviour is the source of the following dependency conflicts.\n",
      "spyder 4.1.4 requires pyqt5<5.13; python_version >= \"3\", which is not installed.\n",
      "spyder 4.1.4 requires pyqtwebengine<5.13; python_version >= \"3\", which is not installed.\n",
      "WARNING: There was an error checking the latest version of pip.\n"
     ]
    }
   ],
   "source": [
    "pip install --upgrade cloudpickle"
   ]
  },
  {
   "cell_type": "code",
   "execution_count": 3,
   "metadata": {
    "scrolled": true
   },
   "outputs": [
    {
     "name": "stdout",
     "output_type": "stream",
     "text": [
      "Looking in indexes: http://pypi.douban.com/simple\n",
      "Requirement already satisfied: setuptools in d:\\anaconda\\lib\\site-packages (49.2.0.post20200714)\n",
      "Collecting setuptools\n",
      "  Downloading http://pypi.doubanio.com/packages/e9/1c/ec080fde54ab30a738c92f794eab7f5d2f354f2b619ee95b2efe353e0766/setuptools-62.3.2-py3-none-any.whl (1.2 MB)\n",
      "     ---------------------------------------- 1.2/1.2 MB 9.7 MB/s eta 0:00:00\n",
      "Installing collected packages: setuptools\n",
      "  Attempting uninstall: setuptools\n",
      "    Found existing installation: setuptools 49.2.0.post20200714\n",
      "    Uninstalling setuptools-49.2.0.post20200714:\n",
      "      Successfully uninstalled setuptools-49.2.0.post20200714\n",
      "Successfully installed setuptools-62.3.2\n",
      "Note: you may need to restart the kernel to use updated packages.\n"
     ]
    },
    {
     "name": "stderr",
     "output_type": "stream",
     "text": [
      "ERROR: pip's dependency resolver does not currently take into account all the packages that are installed. This behaviour is the source of the following dependency conflicts.\n",
      "distributed 2.20.0 requires cloudpickle>=1.3.0, but you have cloudpickle 1.2.2 which is incompatible.\n",
      "WARNING: There was an error checking the latest version of pip.\n"
     ]
    }
   ],
   "source": [
    "pip install --upgrade setuptools"
   ]
  },
  {
   "cell_type": "code",
   "execution_count": 1,
   "metadata": {},
   "outputs": [
    {
     "name": "stdout",
     "output_type": "stream",
     "text": [
      "Looking in indexes: http://pypi.douban.com/simple\n",
      "Collecting apache-flink\n",
      "  Using cached apache_flink-1.15.0-py2.py3-none-any.whl\n",
      "Requirement already satisfied: py4j==0.10.9.3 in d:\\anaconda\\lib\\site-packages (from apache-flink) (0.10.9.3)\n",
      "Requirement already satisfied: protobuf<3.18 in d:\\anaconda\\lib\\site-packages (from apache-flink) (3.17.3)\n",
      "Requirement already satisfied: avro-python3!=1.9.2,<1.10.0,>=1.8.1 in d:\\anaconda\\lib\\site-packages (from apache-flink) (1.9.2.1)\n",
      "Collecting apache-beam==2.27.0\n",
      "  Downloading http://pypi.doubanio.com/packages/49/9f/bc28028d89ca12bf74377c5810c07caf812665c49c542a01871277faee1d/apache_beam-2.27.0-cp38-cp38-win_amd64.whl (3.6 MB)\n",
      "     ---------------------------------------- 3.6/3.6 MB 1.2 MB/s eta 0:00:00\n",
      "Requirement already satisfied: cloudpickle==1.2.2 in d:\\anaconda\\lib\\site-packages (from apache-flink) (1.2.2)\n",
      "Requirement already satisfied: apache-flink-libraries<1.15.1,>=1.15.0 in d:\\anaconda\\lib\\site-packages (from apache-flink) (1.15.0)\n",
      "Requirement already satisfied: pytz>=2018.3 in d:\\anaconda\\lib\\site-packages (from apache-flink) (2020.1)\n",
      "Requirement already satisfied: python-dateutil==2.8.0 in d:\\anaconda\\lib\\site-packages (from apache-flink) (2.8.0)\n",
      "Requirement already satisfied: pandas<1.2.0,>=1.0 in d:\\anaconda\\lib\\site-packages (from apache-flink) (1.0.5)\n",
      "Requirement already satisfied: pyarrow<3.0.0,>=0.15.1 in d:\\anaconda\\lib\\site-packages (from apache-flink) (2.0.0)\n",
      "Requirement already satisfied: fastavro<0.24,>=0.21.4 in d:\\anaconda\\lib\\site-packages (from apache-flink) (0.23.6)\n",
      "Collecting pemja==0.1.4\n",
      "  Downloading http://pypi.doubanio.com/packages/8a/39/dfb9c9a1448a93f038e963f9efe988d6988c5316474ad725e8669b3e53a6/pemja-0.1.4.tar.gz (32 kB)\n",
      "  Preparing metadata (setup.py): started\n",
      "  Preparing metadata (setup.py): finished with status 'done'\n",
      "Requirement already satisfied: numpy<1.20,>=1.14.3 in d:\\anaconda\\lib\\site-packages (from apache-flink) (1.19.5)\n",
      "Requirement already satisfied: requests>=2.26.0 in d:\\anaconda\\lib\\site-packages (from apache-flink) (2.27.1)\n",
      "Requirement already satisfied: pydot<2,>=1.2.0 in d:\\anaconda\\lib\\site-packages (from apache-beam==2.27.0->apache-flink) (1.4.2)\n",
      "Collecting mock<3.0.0,>=1.0.1\n",
      "  Downloading http://pypi.doubanio.com/packages/e6/35/f187bdf23be87092bd0f1200d43d23076cee4d0dec109f195173fd3ebc79/mock-2.0.0-py2.py3-none-any.whl (56 kB)\n",
      "     ---------------------------------------- 56.8/56.8 kB 1.0 MB/s eta 0:00:00\n",
      "Collecting oauth2client<5,>=2.0.1\n",
      "  Downloading http://pypi.doubanio.com/packages/95/a9/4f25a14d23f0786b64875b91784607c2277eff25d48f915e39ff0cff505a/oauth2client-4.1.3-py2.py3-none-any.whl (98 kB)\n",
      "     -------------------------------------- 98.2/98.2 kB 807.0 kB/s eta 0:00:00\n",
      "Requirement already satisfied: dill<0.3.2,>=0.3.1.1 in d:\\anaconda\\lib\\site-packages (from apache-beam==2.27.0->apache-flink) (0.3.1.1)\n",
      "Requirement already satisfied: future<1.0.0,>=0.18.2 in d:\\anaconda\\lib\\site-packages (from apache-beam==2.27.0->apache-flink) (0.18.2)\n",
      "Requirement already satisfied: httplib2<0.18.0,>=0.8 in d:\\anaconda\\lib\\site-packages (from apache-beam==2.27.0->apache-flink) (0.17.4)\n",
      "Requirement already satisfied: grpcio<2,>=1.29.0 in d:\\anaconda\\lib\\site-packages (from apache-beam==2.27.0->apache-flink) (1.46.3)Note: you may need to restart the kernel to use updated packages.\n",
      "Requirement already satisfied: crcmod<2.0,>=1.7 in d:\\anaconda\\lib\\site-packages (from apache-beam==2.27.0->apache-flink) (1.7)\n",
      "Requirement already satisfied: typing-extensions<3.8.0,>=3.7.0 in d:\\anaconda\\lib\\site-packages (from apache-beam==2.27.0->apache-flink) (3.7.4.2)\n",
      "Requirement already satisfied: pymongo<4.0.0,>=3.8.0 in d:\\anaconda\\lib\\site-packages (from apache-beam==2.27.0->apache-flink) (3.12.3)\n",
      "Collecting hdfs<3.0.0,>=2.1.0\n",
      "  Downloading http://pypi.doubanio.com/packages/fd/49/34f26fae99c5ebbfcdd81d6bd4aae21d42f018e1e14fa6301c227e45b24d/hdfs-2.7.0-py3-none-any.whl (34 kB)\n",
      "\n"
     ]
    },
    {
     "name": "stderr",
     "output_type": "stream",
     "text": [
      "  error: subprocess-exited-with-error\n",
      "  \n",
      "  python setup.py bdist_wheel did not run successfully.\n",
      "  exit code: 1\n",
      "  \n",
      "  [36 lines of output]\n",
      "  numpy include found at D:\\anaconda\\lib\\site-packages\\numpy\\core\\include\n",
      "  running bdist_wheel\n",
      "  running build\n",
      "  running build_py\n",
      "  creating build\n",
      "  creating build\\lib.win-amd64-3.8\n",
      "  creating build\\lib.win-amd64-3.8\\pemja\n",
      "  copying src\\main\\python\\pemja\\redirect_stream.py -> build\\lib.win-amd64-3.8\\pemja\n",
      "  copying src\\main\\python\\pemja\\version.py -> build\\lib.win-amd64-3.8\\pemja\n",
      "  copying src\\main\\python\\pemja\\__init__.py -> build\\lib.win-amd64-3.8\\pemja"
     ]
    },
    {
     "name": "stdout",
     "output_type": "stream",
     "text": [
      "Requirement already satisfied: six>=1.5 in d:\\anaconda\\lib\\site-packages (from python-dateutil==2.8.0->apache-flink) (1.15.0)\n",
      "Requirement already satisfied: certifi>=2017.4.17 in d:\\anaconda\\lib\\site-packages (from requests>=2.26.0->apache-flink) (2020.6.20)\n",
      "Requirement already satisfied: charset-normalizer~=2.0.0 in d:\\anaconda\\lib\\site-packages (from requests>=2.26.0->apache-flink) (2.0.12)\n",
      "Requirement already satisfied: urllib3<1.27,>=1.21.1 in d:\\anaconda\\lib\\site-packages (from requests>=2.26.0->apache-flink) (1.25.9)\n",
      "Requirement already satisfied: idna<4,>=2.5 in d:\\anaconda\\lib\\site-packages (from requests>=2.26.0->apache-flink) (2.10)\n",
      "Requirement already satisfied: docopt in d:\\anaconda\\lib\\site-packages (from hdfs<3.0.0,>=2.1.0->apache-beam==2.27.0->apache-flink) (0.6.2)\n",
      "Requirement already satisfied: pbr>=0.11 in d:\\anaconda\\lib\\site-packages (from mock<3.0.0,>=1.0.1->apache-beam==2.27.0->apache-flink) (5.9.0)\n",
      "Requirement already satisfied: pyasn1-modules>=0.0.5 in d:\\anaconda\\lib\\site-packages (from oauth2client<5,>=2.0.1->apache-beam==2.27.0->apache-flink) (0.2.8)\n",
      "Requirement already satisfied: pyasn1>=0.1.7 in d:\\anaconda\\lib\\site-packages (from oauth2client<5,>=2.0.1->apache-beam==2.27.0->apache-flink) (0.4.8)\n",
      "Requirement already satisfied: rsa>=3.1.4 in d:\\anaconda\\lib\\site-packages (from oauth2client<5,>=2.0.1->apache-beam==2.27.0->apache-flink) (4.8)\n",
      "Requirement already satisfied: pyparsing>=2.1.4 in d:\\anaconda\\lib\\site-packages (from pydot<2,>=1.2.0->apache-beam==2.27.0->apache-flink) (2.4.7)\n",
      "Building wheels for collected packages: pemja\n",
      "  Building wheel for pemja (setup.py): started\n",
      "  Building wheel for pemja (setup.py): finished with status 'error'\n",
      "  Running setup.py clean for pemja\n",
      "Failed to build pemja\n",
      "Installing collected packages: pemja, mock, oauth2client, hdfs, apache-beam, apache-flink\n",
      "  Running setup.py install for pemja: started\n",
      "  Running setup.py install for pemja: finished with status 'error'\n"
     ]
    },
    {
     "name": "stderr",
     "output_type": "stream",
     "text": [
      "\n",
      "  running egg_info\n",
      "  writing src/main/python\\pemja.egg-info\\PKG-INFO\n",
      "  writing dependency_links to src/main/python\\pemja.egg-info\\dependency_links.txt\n",
      "  writing requirements to src/main/python\\pemja.egg-info\\requires.txt\n",
      "  writing top-level names to src/main/python\\pemja.egg-info\\top_level.txt\n",
      "  reading manifest file 'src/main/python\\pemja.egg-info\\SOURCES.txt'\n",
      "  reading manifest template 'MANIFEST.in'\n",
      "  warning: no previously-included files matching '*.py[cod]' found anywhere in distribution\n",
      "  warning: no previously-included files matching '__pycache__' found anywhere in distribution\n",
      "  warning: no previously-included files matching '.DS_Store' found anywhere in distribution\n",
      "  warning: no files found matching 'NOTICE'\n",
      "  writing manifest file 'src/main/python\\pemja.egg-info\\SOURCES.txt'\n",
      "  running build_ext\n",
      "  building 'pemja_core' extension\n",
      "  creating build\\temp.win-amd64-3.8\n",
      "  creating build\\temp.win-amd64-3.8\\Release\n",
      "  creating build\\temp.win-amd64-3.8\\Release\\src\n",
      "  creating build\\temp.win-amd64-3.8\\Release\\src\\main\n",
      "  creating build\\temp.win-amd64-3.8\\Release\\src\\main\\c\n",
      "  creating build\\temp.win-amd64-3.8\\Release\\src\\main\\c\\pemja\n",
      "  creating build\\temp.win-amd64-3.8\\Release\\src\\main\\c\\pemja\\core\n",
      "  creating build\\temp.win-amd64-3.8\\Release\\src\\main\\c\\pemja\\core\\java_class\n",
      "  G:\\Microsoft Visual Studio\\2022\\Community\\VC\\Tools\\MSVC\\14.31.31103\\bin\\HostX86\\x64\\cl.exe /c /nologo /Ox /W3 /GL /DNDEBUG /MD -ID:\\jdk\\include -Isrc/main/c/pemja/core/include -ID:\\anaconda\\lib\\site-packages\\numpy\\core\\include -ID:\\anaconda\\include -ID:\\anaconda\\include \"-IG:\\Microsoft Visual Studio\\2022\\Community\\VC\\Tools\\MSVC\\14.31.31103\\ATLMFC\\include\" \"-IG:\\Microsoft Visual Studio\\2022\\Community\\VC\\Tools\\MSVC\\14.31.31103\\include\" \"-IG:\\Windows Kits\\10\\include\\10.0.19041.0\\ucrt\" \"-IG:\\Windows Kits\\10\\\\include\\10.0.19041.0\\\\shared\" \"-IG:\\Windows Kits\\10\\\\include\\10.0.19041.0\\\\um\" \"-IG:\\Windows Kits\\10\\\\include\\10.0.19041.0\\\\winrt\" \"-IG:\\Windows Kits\\10\\\\include\\10.0.19041.0\\\\cppwinrt\" /Tcsrc/main/c/pemja/core\\pyexceptions.c /Fobuild\\temp.win-amd64-3.8\\Release\\src/main/c/pemja/core\\pyexceptions.obj\n",
      "  pyexceptions.c\n",
      "  D:\\jdk\\include\\jni.h(45): fatal error C1083: 无法打开包括文件: “jni_md.h”: No such file or directory\n",
      "  error: command 'G:\\\\Microsoft Visual Studio\\\\2022\\\\Community\\\\VC\\\\Tools\\\\MSVC\\\\14.31.31103\\\\bin\\\\HostX86\\\\x64\\\\cl.exe' failed with exit status 2\n",
      "  [end of output]\n",
      "  \n",
      "  note: This error originates from a subprocess, and is likely not a problem with pip.\n",
      "  ERROR: Failed building wheel for pemja\n",
      "  error: subprocess-exited-with-error\n",
      "  \n",
      "  Running setup.py install for pemja did not run successfully.\n",
      "  exit code: 1\n",
      "  \n",
      "  [36 lines of output]\n",
      "  numpy include found at D:\\anaconda\\lib\\site-packages\\numpy\\core\\include\n",
      "  running install\n",
      "  running build\n",
      "  running build_py\n",
      "  creating build\n",
      "  creating build\\lib.win-amd64-3.8\n",
      "  creating build\\lib.win-amd64-3.8\\pemja\n",
      "  copying src\\main\\python\\pemja\\redirect_stream.py -> build\\lib.win-amd64-3.8\\pemja\n",
      "  copying src\\main\\python\\pemja\\version.py -> build\\lib.win-amd64-3.8\\pemja\n",
      "  copying src\\main\\python\\pemja\\__init__.py -> build\\lib.win-amd64-3.8\\pemja\n",
      "  running egg_info\n",
      "  writing src/main/python\\pemja.egg-info\\PKG-INFO\n",
      "  writing dependency_links to src/main/python\\pemja.egg-info\\dependency_links.txt\n",
      "  writing requirements to src/main/python\\pemja.egg-info\\requires.txt\n",
      "  writing top-level names to src/main/python\\pemja.egg-info\\top_level.txt\n",
      "  reading manifest file 'src/main/python\\pemja.egg-info\\SOURCES.txt'\n",
      "  reading manifest template 'MANIFEST.in'\n",
      "  warning: no previously-included files matching '*.py[cod]' found anywhere in distribution\n",
      "  warning: no previously-included files matching '__pycache__' found anywhere in distribution\n",
      "  warning: no previously-included files matching '.DS_Store' found anywhere in distribution\n",
      "  warning: no files found matching 'NOTICE'\n",
      "  writing manifest file 'src/main/python\\pemja.egg-info\\SOURCES.txt'\n",
      "  running build_ext\n",
      "  building 'pemja_core' extension\n",
      "  creating build\\temp.win-amd64-3.8\n",
      "  creating build\\temp.win-amd64-3.8\\Release\n",
      "  creating build\\temp.win-amd64-3.8\\Release\\src\n",
      "  creating build\\temp.win-amd64-3.8\\Release\\src\\main\n",
      "  creating build\\temp.win-amd64-3.8\\Release\\src\\main\\c\n",
      "  creating build\\temp.win-amd64-3.8\\Release\\src\\main\\c\\pemja\n",
      "  creating build\\temp.win-amd64-3.8\\Release\\src\\main\\c\\pemja\\core\n",
      "  creating build\\temp.win-amd64-3.8\\Release\\src\\main\\c\\pemja\\core\\java_class\n",
      "  G:\\Microsoft Visual Studio\\2022\\Community\\VC\\Tools\\MSVC\\14.31.31103\\bin\\HostX86\\x64\\cl.exe /c /nologo /Ox /W3 /GL /DNDEBUG /MD -ID:\\jdk\\include -Isrc/main/c/pemja/core/include -ID:\\anaconda\\lib\\site-packages\\numpy\\core\\include -ID:\\anaconda\\include -ID:\\anaconda\\include \"-IG:\\Microsoft Visual Studio\\2022\\Community\\VC\\Tools\\MSVC\\14.31.31103\\ATLMFC\\include\" \"-IG:\\Microsoft Visual Studio\\2022\\Community\\VC\\Tools\\MSVC\\14.31.31103\\include\" \"-IG:\\Windows Kits\\10\\include\\10.0.19041.0\\ucrt\" \"-IG:\\Windows Kits\\10\\\\include\\10.0.19041.0\\\\shared\" \"-IG:\\Windows Kits\\10\\\\include\\10.0.19041.0\\\\um\" \"-IG:\\Windows Kits\\10\\\\include\\10.0.19041.0\\\\winrt\" \"-IG:\\Windows Kits\\10\\\\include\\10.0.19041.0\\\\cppwinrt\" /Tcsrc/main/c/pemja/core\\pyexceptions.c /Fobuild\\temp.win-amd64-3.8\\Release\\src/main/c/pemja/core\\pyexceptions.obj\n",
      "  pyexceptions.c\n",
      "  D:\\jdk\\include\\jni.h(45): fatal error C1083: 无法打开包括文件: “jni_md.h”: No such file or directory\n",
      "  error: command 'G:\\\\Microsoft Visual Studio\\\\2022\\\\Community\\\\VC\\\\Tools\\\\MSVC\\\\14.31.31103\\\\bin\\\\HostX86\\\\x64\\\\cl.exe' failed with exit status 2\n",
      "  [end of output]\n",
      "  \n",
      "  note: This error originates from a subprocess, and is likely not a problem with pip.\n",
      "error: legacy-install-failure\n",
      "\n",
      "Encountered error while trying to install package.\n",
      "\n",
      "pemja\n",
      "\n",
      "note: This is an issue with the package mentioned above, not pip.\n",
      "hint: See above for output from the failure.\n",
      "WARNING: There was an error checking the latest version of pip.\n"
     ]
    }
   ],
   "source": [
    "pip install --upgrade apache-flink"
   ]
  },
  {
   "cell_type": "code",
   "execution_count": 6,
   "metadata": {
    "scrolled": false
   },
   "outputs": [
    {
     "name": "stdout",
     "output_type": "stream",
     "text": [
      "Looking in indexes: http://pypi.douban.com/simple\n",
      "Collecting apache-flink\n",
      "  Using cached apache_flink-1.15.0-py2.py3-none-any.whl\n",
      "Requirement already satisfied: requests>=2.26.0 in d:\\anaconda\\lib\\site-packages (from apache-flink) (2.27.1)\n",
      "Collecting pemja==0.1.4\n",
      "  Downloading http://pypi.doubanio.com/packages/8a/39/dfb9c9a1448a93f038e963f9efe988d6988c5316474ad725e8669b3e53a6/pemja-0.1.4.tar.gz (32 kB)\n",
      "  Preparing metadata (setup.py): started\n",
      "  Preparing metadata (setup.py): finished with status 'done'\n",
      "Requirement already satisfied: numpy<1.20,>=1.14.3 in d:\\anaconda\\lib\\site-packages (from apache-flink) (1.19.5)\n",
      "Collecting cloudpickle==1.2.2\n",
      "  Downloading http://pypi.doubanio.com/packages/c1/49/334e279caa3231255725c8e860fa93e72083567625573421db8875846c14/cloudpickle-1.2.2-py2.py3-none-any.whl (25 kB)\n",
      "Requirement already satisfied: python-dateutil==2.8.0 in d:\\anaconda\\lib\\site-packages (from apache-flink) (2.8.0)\n",
      "Requirement already satisfied: py4j==0.10.9.3 in d:\\anaconda\\lib\\site-packages (from apache-flink) (0.10.9.3)\n",
      "Requirement already satisfied: protobuf<3.18 in d:\\anaconda\\lib\\site-packages (from apache-flink) (3.17.3)\n",
      "Requirement already satisfied: pandas<1.2.0,>=1.0 in d:\\anaconda\\lib\\site-packages (from apache-flink) (1.0.5)\n",
      "Requirement already satisfied: pytz>=2018.3 in d:\\anaconda\\lib\\site-packages (from apache-flink) (2020.1)\n",
      "Requirement already satisfied: fastavro<0.24,>=0.21.4 in d:\\anaconda\\lib\\site-packages (from apache-flink) (0.23.6)\n",
      "Requirement already satisfied: apache-flink-libraries<1.15.1,>=1.15.0 in d:\\anaconda\\lib\\site-packages (from apache-flink) (1.15.0)\n",
      "Requirement already satisfied: avro-python3!=1.9.2,<1.10.0,>=1.8.1 in d:\\anaconda\\lib\\site-packages (from apache-flink) (1.9.2.1)\n",
      "Collecting apache-beam==2.27.0\n",
      "  Downloading http://pypi.doubanio.com/packages/49/9f/bc28028d89ca12bf74377c5810c07caf812665c49c542a01871277faee1d/apache_beam-2.27.0-cp38-cp38-win_amd64.whl (3.6 MB)\n",
      "     ---------------------------------------- 3.6/3.6 MB 7.7 MB/s eta 0:00:00\n",
      "Requirement already satisfied: pyarrow<3.0.0,>=0.15.1 in d:\\anaconda\\lib\\site-packages (from apache-flink) (2.0.0)\n",
      "Requirement already satisfied: typing-extensions<3.8.0,>=3.7.0 in d:\\anaconda\\lib\\site-packages (from apache-beam==2.27.0->apache-flink) (3.7.4.2)\n",
      "Requirement already satisfied: grpcio<2,>=1.29.0 in d:\\anaconda\\lib\\site-packages (from apache-beam==2.27.0->apache-flink) (1.46.3)\n",
      "Requirement already satisfied: crcmod<2.0,>=1.7 in d:\\anaconda\\lib\\site-packages (from apache-beam==2.27.0->apache-flink) (1.7)\n",
      "Requirement already satisfied: dill<0.3.2,>=0.3.1.1 in d:\\anaconda\\lib\\site-packages (from apache-beam==2.27.0->apache-flink) (0.3.1.1)\n",
      "Requirement already satisfied: httplib2<0.18.0,>=0.8 in d:\\anaconda\\lib\\site-packages (from apache-beam==2.27.0->apache-flink) (0.17.4)\n",
      "Requirement already satisfied: pydot<2,>=1.2.0 in d:\\anaconda\\lib\\site-packages (from apache-beam==2.27.0->apache-flink) (1.4.2)Note: you may need to restart the kernel to use updated packages.\n"
     ]
    },
    {
     "name": "stderr",
     "output_type": "stream",
     "text": [
      "  error: subprocess-exited-with-error\n",
      "  \n",
      "  python setup.py bdist_wheel did not run successfully.\n",
      "  exit code: 1\n",
      "  \n",
      "  [37 lines of output]\n",
      "  numpy include found at D:\\anaconda\\lib\\site-packages\\numpy\\core\\include\n",
      "  running bdist_wheel\n",
      "  running build\n",
      "  running build_py\n",
      "  creating build\n",
      "  creating build\\lib.win-amd64-cpython-38\n",
      "  creating build\\lib.win-amd64-cpython-38\\pemja\n",
      "  copying src\\main\\python\\pemja\\redirect_stream.py -> build\\lib.win-amd64-cpython-38\\pemja\n",
      "  copying src\\main\\python\\pemja\\version.py -> build\\lib.win-amd64-cpython-38\\pemja\n",
      "  copying src\\main\\python\\pemja\\__init__.py -> build\\lib.win-amd64-cpython-38\\pemja\n",
      "  running egg_info\n",
      "  writing src/main/python\\pemja.egg-info\\PKG-INFO\n",
      "  writing dependency_links to src/main/python\\pemja.egg-info\\dependency_links.txt\n",
      "  writing requirements to src/main/python\\pemja.egg-info\\requires.txt\n",
      "  writing top-level names to src/main/python\\pemja.egg-info\\top_level.txt\n",
      "  reading manifest file 'src/main/python\\pemja.egg-info\\SOURCES.txt'\n",
      "  reading manifest template 'MANIFEST.in'\n",
      "  warning: no previously-included files matching '*.py[cod]' found anywhere in distribution\n",
      "  warning: no previously-included files matching '__pycache__' found anywhere in distribution\n",
      "  warning: no previously-included files matching '.DS_Store' found anywhere in distribution\n",
      "  warning: no files found matching 'NOTICE'\n",
      "  adding license file 'LICENSE'\n",
      "  writing manifest file 'src/main/python\\pemja.egg-info\\SOURCES.txt'\n",
      "  running build_ext\n",
      "  building 'pemja_core' extension\n",
      "  creating build\\temp.win-amd64-cpython-38\n",
      "  creating build\\temp.win-amd64-cpython-38\\Release"
     ]
    },
    {
     "name": "stdout",
     "output_type": "stream",
     "text": [
      "\n",
      "Collecting oauth2client<5,>=2.0.1\n",
      "  Downloading http://pypi.doubanio.com/packages/95/a9/4f25a14d23f0786b64875b91784607c2277eff25d48f915e39ff0cff505a/oauth2client-4.1.3-py2.py3-none-any.whl (98 kB)\n",
      "     ---------------------------------------- 98.2/98.2 kB ? eta 0:00:00\n",
      "Collecting mock<3.0.0,>=1.0.1\n",
      "  Downloading http://pypi.doubanio.com/packages/e6/35/f187bdf23be87092bd0f1200d43d23076cee4d0dec109f195173fd3ebc79/mock-2.0.0-py2.py3-none-any.whl (56 kB)\n",
      "     ---------------------------------------- 56.8/56.8 kB ? eta 0:00:00\n",
      "Collecting hdfs<3.0.0,>=2.1.0\n",
      "  Downloading http://pypi.doubanio.com/packages/fd/49/34f26fae99c5ebbfcdd81d6bd4aae21d42f018e1e14fa6301c227e45b24d/hdfs-2.7.0-py3-none-any.whl (34 kB)\n",
      "Requirement already satisfied: future<1.0.0,>=0.18.2 in d:\\anaconda\\lib\\site-packages (from apache-beam==2.27.0->apache-flink) (0.18.2)\n",
      "Requirement already satisfied: pymongo<4.0.0,>=3.8.0 in d:\\anaconda\\lib\\site-packages (from apache-beam==2.27.0->apache-flink) (3.12.3)\n",
      "Requirement already satisfied: six>=1.5 in d:\\anaconda\\lib\\site-packages (from python-dateutil==2.8.0->apache-flink) (1.15.0)\n",
      "Requirement already satisfied: urllib3<1.27,>=1.21.1 in d:\\anaconda\\lib\\site-packages (from requests>=2.26.0->apache-flink) (1.25.9)\n",
      "Requirement already satisfied: idna<4,>=2.5 in d:\\anaconda\\lib\\site-packages (from requests>=2.26.0->apache-flink) (2.10)\n",
      "Requirement already satisfied: charset-normalizer~=2.0.0 in d:\\anaconda\\lib\\site-packages (from requests>=2.26.0->apache-flink) (2.0.12)\n",
      "Requirement already satisfied: certifi>=2017.4.17 in d:\\anaconda\\lib\\site-packages (from requests>=2.26.0->apache-flink) (2020.6.20)\n",
      "Requirement already satisfied: docopt in d:\\anaconda\\lib\\site-packages (from hdfs<3.0.0,>=2.1.0->apache-beam==2.27.0->apache-flink) (0.6.2)\n",
      "Requirement already satisfied: pbr>=0.11 in d:\\anaconda\\lib\\site-packages (from mock<3.0.0,>=1.0.1->apache-beam==2.27.0->apache-flink) (5.9.0)\n",
      "Requirement already satisfied: pyasn1>=0.1.7 in d:\\anaconda\\lib\\site-packages (from oauth2client<5,>=2.0.1->apache-beam==2.27.0->apache-flink) (0.4.8)\n",
      "Requirement already satisfied: rsa>=3.1.4 in d:\\anaconda\\lib\\site-packages (from oauth2client<5,>=2.0.1->apache-beam==2.27.0->apache-flink) (4.8)\n",
      "Requirement already satisfied: pyasn1-modules>=0.0.5 in d:\\anaconda\\lib\\site-packages (from oauth2client<5,>=2.0.1->apache-beam==2.27.0->apache-flink) (0.2.8)\n",
      "Requirement already satisfied: pyparsing>=2.1.4 in d:\\anaconda\\lib\\site-packages (from pydot<2,>=1.2.0->apache-beam==2.27.0->apache-flink) (2.4.7)\n",
      "Building wheels for collected packages: pemja\n",
      "  Building wheel for pemja (setup.py): started\n",
      "  Building wheel for pemja (setup.py): finished with status 'error'\n",
      "  Running setup.py clean for pemja\n",
      "Failed to build pemja\n",
      "Installing collected packages: cloudpickle, pemja, mock, oauth2client, hdfs, apache-beam, apache-flink\n",
      "  Attempting uninstall: cloudpickle\n",
      "    Found existing installation: cloudpickle 2.1.0\n",
      "    Uninstalling cloudpickle-2.1.0:\n",
      "      Successfully uninstalled cloudpickle-2.1.0\n",
      "  Running setup.py install for pemja: started\n",
      "  Running setup.py install for pemja: finished with status 'error'\n"
     ]
    },
    {
     "name": "stderr",
     "output_type": "stream",
     "text": [
      "\n",
      "  creating build\\temp.win-amd64-cpython-38\\Release\\src\n",
      "  creating build\\temp.win-amd64-cpython-38\\Release\\src\\main\n",
      "  creating build\\temp.win-amd64-cpython-38\\Release\\src\\main\\c\n",
      "  creating build\\temp.win-amd64-cpython-38\\Release\\src\\main\\c\\pemja\n",
      "  creating build\\temp.win-amd64-cpython-38\\Release\\src\\main\\c\\pemja\\core\n",
      "  creating build\\temp.win-amd64-cpython-38\\Release\\src\\main\\c\\pemja\\core\\java_class\n",
      "  \"G:\\Microsoft Visual Studio\\2022\\Community\\VC\\Tools\\MSVC\\14.31.31103\\bin\\HostX86\\x64\\cl.exe\" /c /nologo /O2 /W3 /GL /DNDEBUG /MD -ID:\\jdk\\include -Isrc/main/c/pemja/core/include -ID:\\anaconda\\lib\\site-packages\\numpy\\core\\include -ID:\\anaconda\\include -ID:\\anaconda\\Include \"-IG:\\Microsoft Visual Studio\\2022\\Community\\VC\\Tools\\MSVC\\14.31.31103\\ATLMFC\\include\" \"-IG:\\Microsoft Visual Studio\\2022\\Community\\VC\\Tools\\MSVC\\14.31.31103\\include\" \"-IG:\\Windows Kits\\10\\include\\10.0.19041.0\\ucrt\" \"-IG:\\Windows Kits\\10\\\\include\\10.0.19041.0\\\\shared\" \"-IG:\\Windows Kits\\10\\\\include\\10.0.19041.0\\\\um\" \"-IG:\\Windows Kits\\10\\\\include\\10.0.19041.0\\\\winrt\" \"-IG:\\Windows Kits\\10\\\\include\\10.0.19041.0\\\\cppwinrt\" /Tcsrc/main/c/pemja/core\\PythonInterpreter.c /Fobuild\\temp.win-amd64-cpython-38\\Release\\src/main/c/pemja/core\\PythonInterpreter.obj\n",
      "  PythonInterpreter.c\n",
      "  D:\\jdk\\include\\jni.h(45): fatal error C1083: 无法打开包括文件: “jni_md.h”: No such file or directory\n",
      "  error: command 'G:\\\\Microsoft Visual Studio\\\\2022\\\\Community\\\\VC\\\\Tools\\\\MSVC\\\\14.31.31103\\\\bin\\\\HostX86\\\\x64\\\\cl.exe' failed with exit code 2\n",
      "  [end of output]\n",
      "  \n",
      "  note: This error originates from a subprocess, and is likely not a problem with pip.\n",
      "  ERROR: Failed building wheel for pemja\n",
      "  error: subprocess-exited-with-error\n",
      "  \n",
      "  Running setup.py install for pemja did not run successfully.\n",
      "  exit code: 1\n",
      "  \n",
      "  [39 lines of output]\n",
      "  numpy include found at D:\\anaconda\\lib\\site-packages\\numpy\\core\\include\n",
      "  running install\n",
      "  D:\\anaconda\\lib\\site-packages\\setuptools\\command\\install.py:34: SetuptoolsDeprecationWarning: setup.py install is deprecated. Use build and pip and other standards-based tools.\n",
      "    warnings.warn(\n",
      "  running build\n",
      "  running build_py\n",
      "  creating build\n",
      "  creating build\\lib.win-amd64-cpython-38\n",
      "  creating build\\lib.win-amd64-cpython-38\\pemja\n",
      "  copying src\\main\\python\\pemja\\redirect_stream.py -> build\\lib.win-amd64-cpython-38\\pemja\n",
      "  copying src\\main\\python\\pemja\\version.py -> build\\lib.win-amd64-cpython-38\\pemja\n",
      "  copying src\\main\\python\\pemja\\__init__.py -> build\\lib.win-amd64-cpython-38\\pemja\n",
      "  running egg_info\n",
      "  writing src/main/python\\pemja.egg-info\\PKG-INFO\n",
      "  writing dependency_links to src/main/python\\pemja.egg-info\\dependency_links.txt\n",
      "  writing requirements to src/main/python\\pemja.egg-info\\requires.txt\n",
      "  writing top-level names to src/main/python\\pemja.egg-info\\top_level.txt\n",
      "  reading manifest file 'src/main/python\\pemja.egg-info\\SOURCES.txt'\n",
      "  reading manifest template 'MANIFEST.in'\n",
      "  warning: no previously-included files matching '*.py[cod]' found anywhere in distribution\n",
      "  warning: no previously-included files matching '__pycache__' found anywhere in distribution\n",
      "  warning: no previously-included files matching '.DS_Store' found anywhere in distribution\n",
      "  warning: no files found matching 'NOTICE'\n",
      "  adding license file 'LICENSE'\n",
      "  writing manifest file 'src/main/python\\pemja.egg-info\\SOURCES.txt'\n",
      "  running build_ext\n",
      "  building 'pemja_core' extension\n",
      "  creating build\\temp.win-amd64-cpython-38\n",
      "  creating build\\temp.win-amd64-cpython-38\\Release\n",
      "  creating build\\temp.win-amd64-cpython-38\\Release\\src\n",
      "  creating build\\temp.win-amd64-cpython-38\\Release\\src\\main\n",
      "  creating build\\temp.win-amd64-cpython-38\\Release\\src\\main\\c\n",
      "  creating build\\temp.win-amd64-cpython-38\\Release\\src\\main\\c\\pemja\n",
      "  creating build\\temp.win-amd64-cpython-38\\Release\\src\\main\\c\\pemja\\core\n",
      "  creating build\\temp.win-amd64-cpython-38\\Release\\src\\main\\c\\pemja\\core\\java_class\n",
      "  \"G:\\Microsoft Visual Studio\\2022\\Community\\VC\\Tools\\MSVC\\14.31.31103\\bin\\HostX86\\x64\\cl.exe\" /c /nologo /O2 /W3 /GL /DNDEBUG /MD -ID:\\jdk\\include -Isrc/main/c/pemja/core/include -ID:\\anaconda\\lib\\site-packages\\numpy\\core\\include -ID:\\anaconda\\include -ID:\\anaconda\\Include \"-IG:\\Microsoft Visual Studio\\2022\\Community\\VC\\Tools\\MSVC\\14.31.31103\\ATLMFC\\include\" \"-IG:\\Microsoft Visual Studio\\2022\\Community\\VC\\Tools\\MSVC\\14.31.31103\\include\" \"-IG:\\Windows Kits\\10\\include\\10.0.19041.0\\ucrt\" \"-IG:\\Windows Kits\\10\\\\include\\10.0.19041.0\\\\shared\" \"-IG:\\Windows Kits\\10\\\\include\\10.0.19041.0\\\\um\" \"-IG:\\Windows Kits\\10\\\\include\\10.0.19041.0\\\\winrt\" \"-IG:\\Windows Kits\\10\\\\include\\10.0.19041.0\\\\cppwinrt\" /Tcsrc/main/c/pemja/core\\PythonInterpreter.c /Fobuild\\temp.win-amd64-cpython-38\\Release\\src/main/c/pemja/core\\PythonInterpreter.obj\n",
      "  PythonInterpreter.c\n",
      "  D:\\jdk\\include\\jni.h(45): fatal error C1083: 无法打开包括文件: “jni_md.h”: No such file or directory\n",
      "  error: command 'G:\\\\Microsoft Visual Studio\\\\2022\\\\Community\\\\VC\\\\Tools\\\\MSVC\\\\14.31.31103\\\\bin\\\\HostX86\\\\x64\\\\cl.exe' failed with exit code 2\n",
      "  [end of output]\n",
      "  \n",
      "  note: This error originates from a subprocess, and is likely not a problem with pip.\n",
      "error: legacy-install-failure\n",
      "\n",
      "Encountered error while trying to install package.\n",
      "\n",
      "pemja\n",
      "\n",
      "note: This is an issue with the package mentioned above, not pip.\n",
      "hint: See above for output from the failure.\n"
     ]
    }
   ],
   "source": [
    "pip install apache-flink"
   ]
  },
  {
   "cell_type": "code",
   "execution_count": 2,
   "metadata": {},
   "outputs": [],
   "source": [
    "import pickle\n",
    "import pandas as pd\n",
    "from sklearn.tree import DecisionTreeClassifier\n",
    "\n",
    "X = pd.Series([0.1, 0.1, 0.1, 0.2, 0.2, 0.2, 0.3, 0.3, 0.3]).values.reshape(-1, 1)\n",
    "y = pd.Series([0, 0, 0, 1, 1, 1, 2, 2, 2])\n",
    "\n",
    "clf = DecisionTreeClassifier()\n",
    "clf.fit(X, y)\n",
    "\n",
    "with open('model.pickle', 'wb') as f:\n",
    "    pickle.dump(clf, f)"
   ]
  },
  {
   "cell_type": "code",
   "execution_count": 7,
   "metadata": {
    "scrolled": true
   },
   "outputs": [
    {
     "ename": "ModuleNotFoundError",
     "evalue": "No module named 'pyflink.datastream'",
     "output_type": "error",
     "traceback": [
      "\u001b[1;31m---------------------------------------------------------------------------\u001b[0m",
      "\u001b[1;31mModuleNotFoundError\u001b[0m                       Traceback (most recent call last)",
      "\u001b[1;32m<ipython-input-7-8264c87bb9a2>\u001b[0m in \u001b[0;36m<module>\u001b[1;34m\u001b[0m\n\u001b[0;32m      1\u001b[0m \u001b[1;32mimport\u001b[0m \u001b[0mpickle\u001b[0m\u001b[1;33m\u001b[0m\u001b[1;33m\u001b[0m\u001b[0m\n\u001b[0;32m      2\u001b[0m \u001b[1;32mimport\u001b[0m \u001b[0mpandas\u001b[0m \u001b[1;32mas\u001b[0m \u001b[0mpd\u001b[0m\u001b[1;33m\u001b[0m\u001b[1;33m\u001b[0m\u001b[0m\n\u001b[1;32m----> 3\u001b[1;33m \u001b[1;32mfrom\u001b[0m \u001b[0mpyflink\u001b[0m\u001b[1;33m.\u001b[0m\u001b[0mdatastream\u001b[0m \u001b[1;32mimport\u001b[0m \u001b[0mStreamExecutionEnvironment\u001b[0m\u001b[1;33m\u001b[0m\u001b[1;33m\u001b[0m\u001b[0m\n\u001b[0m\u001b[0;32m      4\u001b[0m \u001b[1;32mfrom\u001b[0m \u001b[0mpyflink\u001b[0m\u001b[1;33m.\u001b[0m\u001b[0mtable\u001b[0m \u001b[1;32mimport\u001b[0m \u001b[0mEnvironmentSettings\u001b[0m\u001b[1;33m,\u001b[0m \u001b[0mStreamTableEnvironment\u001b[0m\u001b[1;33m,\u001b[0m \u001b[0mDataTypes\u001b[0m\u001b[1;33m\u001b[0m\u001b[1;33m\u001b[0m\u001b[0m\n\u001b[0;32m      5\u001b[0m \u001b[1;32mfrom\u001b[0m \u001b[0mpyflink\u001b[0m\u001b[1;33m.\u001b[0m\u001b[0mtable\u001b[0m\u001b[1;33m.\u001b[0m\u001b[0mudf\u001b[0m \u001b[1;32mimport\u001b[0m \u001b[0mudf\u001b[0m\u001b[1;33m\u001b[0m\u001b[1;33m\u001b[0m\u001b[0m\n",
      "\u001b[1;31mModuleNotFoundError\u001b[0m: No module named 'pyflink.datastream'"
     ]
    }
   ],
   "source": [
    "import pickle\n",
    "import pandas as pd\n",
    "from pyflink.datastream import StreamExecutionEnvironment\n",
    "from pyflink.table import EnvironmentSettings, StreamTableEnvironment, DataTypes\n",
    "from pyflink.table.udf import udf\n",
    "from pyflink.common.typeinfo import Types\n",
    "\n",
    "env = StreamExecutionEnvironment.get_execution_environment()\n",
    "env_settings = EnvironmentSettings.new_instance().in_streaming_mode().use_blink_planner().build()\n",
    "t_env = StreamTableEnvironment.create(env, environment_settings=env_settings)\n",
    "\n",
    "kafka_source_ddl = \"\"\" \n",
    "    create table kafka_source ( \n",
    "     X FLOAT\n",
    "    ) with ( \n",
    "      'connector' = 'kafka', \n",
    "      'topic' = 'myTopic',\n",
    "      'properties.bootstrap.servers' = 'localhost:9092',\n",
    "      'properties.group.id' = 'myGroup',\n",
    "      'scan.startup.mode' = 'earliest-offset',\n",
    "      'format' = 'csv'\n",
    "    )\n",
    "\"\"\"\n",
    "t_env.execute_sql(kafka_source_ddl)\n",
    "\n",
    "with open('model.pickle', 'rb') as f:\n",
    "    clf = pickle.load(f)\n",
    "\n",
    "@udf(input_types=DataTypes.FLOAT(), result_type=DataTypes.FLOAT())\n",
    "def predict(X):\n",
    "    X = pd.Series([X]).values.reshape(-1, 1)\n",
    "    y_pred = clf.predict(X)\n",
    "    return y_pred\n",
    "\n",
    "t_env.create_temporary_function('predict', predict)\n",
    "\n",
    "result = t_env.from_path('kafka_source').select('X, predict(X) as y_pred')\n",
    "data = t_env.to_append_stream(result, Types.ROW([Types.FLOAT(), Types.FLOAT()]))\n",
    "data.print()\n",
    "\n",
    "env.execute('stream predict job')"
   ]
  },
  {
   "cell_type": "code",
   "execution_count": 8,
   "metadata": {},
   "outputs": [
    {
     "ename": "ModuleNotFoundError",
     "evalue": "No module named 'pyflink.table'",
     "output_type": "error",
     "traceback": [
      "\u001b[1;31m---------------------------------------------------------------------------\u001b[0m",
      "\u001b[1;31mModuleNotFoundError\u001b[0m                       Traceback (most recent call last)",
      "\u001b[1;32m<ipython-input-8-40d3af50f92d>\u001b[0m in \u001b[0;36m<module>\u001b[1;34m\u001b[0m\n\u001b[1;32m----> 1\u001b[1;33m \u001b[1;32mfrom\u001b[0m \u001b[0mpyflink\u001b[0m\u001b[1;33m.\u001b[0m\u001b[0mtable\u001b[0m \u001b[1;32mimport\u001b[0m \u001b[0mEnvironmentSettings\u001b[0m\u001b[1;33m,\u001b[0m \u001b[0mStreamTableEnvironment\u001b[0m\u001b[1;33m,\u001b[0m \u001b[0mDataTypes\u001b[0m\u001b[1;33m\u001b[0m\u001b[1;33m\u001b[0m\u001b[0m\n\u001b[0m",
      "\u001b[1;31mModuleNotFoundError\u001b[0m: No module named 'pyflink.table'"
     ]
    }
   ],
   "source": [
    "from pyflink.table import EnvironmentSettings, StreamTableEnvironment, DataTypes"
   ]
  },
  {
   "cell_type": "code",
   "execution_count": null,
   "metadata": {},
   "outputs": [],
   "source": []
  }
 ],
 "metadata": {
  "kernelspec": {
   "display_name": "Python 3",
   "language": "python",
   "name": "python3"
  },
  "language_info": {
   "codemirror_mode": {
    "name": "ipython",
    "version": 3
   },
   "file_extension": ".py",
   "mimetype": "text/x-python",
   "name": "python",
   "nbconvert_exporter": "python",
   "pygments_lexer": "ipython3",
   "version": "3.8.3"
  },
  "toc": {
   "base_numbering": 1,
   "nav_menu": {},
   "number_sections": true,
   "sideBar": true,
   "skip_h1_title": false,
   "title_cell": "Table of Contents",
   "title_sidebar": "Contents",
   "toc_cell": false,
   "toc_position": {},
   "toc_section_display": true,
   "toc_window_display": false
  }
 },
 "nbformat": 4,
 "nbformat_minor": 4
}
